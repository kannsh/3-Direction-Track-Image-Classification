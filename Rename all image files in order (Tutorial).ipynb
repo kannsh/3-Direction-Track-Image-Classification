{
 "cells": [
  {
   "cell_type": "markdown",
   "metadata": {},
   "source": [
    "# In this tutorial, you will learn to create a script to rename multiple filenames in the same folder in running order\n",
    "\n",
    "Using 'os.listdir' we can view all folders in the directory specified\n",
    "\n",
    "Lets view where your current working directory is using the code below\n",
    "To view what is folders are inside your folder, use 'os.listdir()'\n"
   ]
  },
  {
   "cell_type": "code",
   "execution_count": null,
   "metadata": {},
   "outputs": [],
   "source": [
    "import os\n",
    "path = \"C:\\\\Users\\\\kansh\\\\Desktop\\\\FYP\"\n",
    "os.chdir(path)"
   ]
  },
  {
   "cell_type": "code",
   "execution_count": 29,
   "metadata": {
    "scrolled": true
   },
   "outputs": [
    {
     "name": "stdout",
     "output_type": "stream",
     "text": [
      "C:\\Users\\kansh\\Desktop\\FYP \n",
      "\n",
      "['.ipynb_checkpoints', 'all', 'image', 'jsonfiles', 'Read JSON files and get class name & value Documentation.ipynb']\n"
     ]
    }
   ],
   "source": [
    "import os\n",
    "print(os.getcwd(), \"\\n\")\n",
    "print(os.listdir())"
   ]
  },
  {
   "cell_type": "markdown",
   "metadata": {},
   "source": [
    "Now lets go to our image folder"
   ]
  },
  {
   "cell_type": "code",
   "execution_count": 33,
   "metadata": {},
   "outputs": [
    {
     "data": {
      "text/plain": [
       "['cars']"
      ]
     },
     "execution_count": 33,
     "metadata": {},
     "output_type": "execute_result"
    }
   ],
   "source": [
    "os.listdir('image')"
   ]
  },
  {
   "cell_type": "markdown",
   "metadata": {},
   "source": [
    "Inside image folder we have a subfolder called 'cars' which contain images of cars"
   ]
  },
  {
   "cell_type": "code",
   "execution_count": 35,
   "metadata": {},
   "outputs": [
    {
     "data": {
      "text/plain": [
       "['Acura_ILX_2013_28_16_110_15_4_70_55_179_39_FWD_5_4_4dr_eeu.jpg',\n",
       " 'Acura_ILX_2013_28_16_110_15_4_70_55_179_39_FWD_5_4_4dr_Gzs.jpg',\n",
       " 'Acura_ILX_2014_28_16_110_15_4_70_55_179_39_FWD_5_4_4dr_rxS.jpg',\n",
       " 'Acura_ILX_2016_27_17_200_24_4_70_55_181_25_FWD_5_4_4dr_cAE.jpg']"
      ]
     },
     "execution_count": 35,
     "metadata": {},
     "output_type": "execute_result"
    }
   ],
   "source": [
    "os.listdir('image\\\\cars')"
   ]
  },
  {
   "cell_type": "markdown",
   "metadata": {},
   "source": [
    "In main function, we use a for loop to iterate the 'count' and total number of images in 'cars' folder \n",
    "\n",
    "'dst' is destination of image filename and new dst to save renamed file at\n",
    "'str' is source of filename which is to be added to the 'dst'"
   ]
  },
  {
   "cell_type": "code",
   "execution_count": 64,
   "metadata": {},
   "outputs": [
    {
     "name": "stdout",
     "output_type": "stream",
     "text": [
      "Completed renaming all files\n",
      "Renamed images are:\n",
      " ['car.0.jpg', 'car.1.jpg', 'car.2.jpg', 'car.3.jpg']\n"
     ]
    }
   ],
   "source": [
    "import os  \n",
    "    \n",
    "# Function to rename multiple files \n",
    "def main(): \n",
    "  \n",
    "    for count, filename in enumerate(os.listdir(\"image\\\\cars\")): \n",
    "        dst =\"car.\" + str(count) + \".jpg\"\n",
    "        src ='image\\\\cars\\\\'+ filename \n",
    "        dst ='image\\\\cars\\\\'+ dst \n",
    "          \n",
    "        # rename() function will \n",
    "        # rename all the files \n",
    "        os.rename(src, dst) \n",
    "  \n",
    "# Driver Code \n",
    "if __name__ == '__main__': \n",
    "      \n",
    "    # Calling main() function \n",
    "    main() \n",
    "    \n",
    "    \n",
    "print(\"Completed renaming all files\")\n",
    "\n",
    "print(\"Renamed images are:\\n\",os.listdir('image\\\\cars'))\n",
    "\n"
   ]
  }
 ],
 "metadata": {
  "kernelspec": {
   "display_name": "Python 3",
   "language": "python",
   "name": "python3"
  },
  "language_info": {
   "codemirror_mode": {
    "name": "ipython",
    "version": 3
   },
   "file_extension": ".py",
   "mimetype": "text/x-python",
   "name": "python",
   "nbconvert_exporter": "python",
   "pygments_lexer": "ipython3",
   "version": "3.7.7"
  }
 },
 "nbformat": 4,
 "nbformat_minor": 4
}
